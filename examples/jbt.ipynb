{
 "cells": [
  {
   "cell_type": "markdown",
   "metadata": {},
   "source": [
    "# Just Bundle Things"
   ]
  },
  {
   "cell_type": "markdown",
   "metadata": {},
   "source": [
    "This script runs through some things you can do with owmeta bundles\n",
    "\n",
    " - [BASICS](#BASICS) Creating and listing bundles\n",
    " - [FETCH](#FETCH) Getting bundles\n",
    " - [LOCAL](#LOCAL) Local index and local cache\n",
    " - [REMOTE](#REMOTE) Remote repositories and distributed file shares\n",
    " - [INSTALL](#INSTALL) Installing a bundle to the local index"
   ]
  },
  {
   "cell_type": "markdown",
   "metadata": {},
   "source": [
    "We'll do everything in a temporary directory and clean up at the end"
   ]
  },
  {
   "cell_type": "code",
   "execution_count": null,
   "metadata": {},
   "outputs": [],
   "source": [
    "# You can re-run this cell to restart from a fresh directory\n",
    "START_DIRECTORY=${START_DIRECTORY:-$(pwd)}\n",
    "cd \"$START_DIRECTORY\"\n",
    "if type cleanup > /dev/null 2> /dev/null ; then\n",
    "    # Clean up if we've run this cell before\n",
    "    cleanup\n",
    "fi\n",
    "# Make a working directory\n",
    "working_directory=$(mktemp -d -t jbt.XXXXXXXXXX)\n",
    "# Change the home directory -- some `owm` commands make use of it,\n",
    "# but we don't want to mess up our actual home directory\n",
    "export HOME=\"$working_directory/home\"\n",
    "# Copy over some files we'll need later\n",
    "mkdir \"$working_directory/scripts\"\n",
    "cp \"$START_DIRECTORY/fake_bundle_server.py\" \"$working_directory/scripts/\"\n",
    "\n",
    "cd $working_directory\n",
    "cleanup () {\n",
    "    cd /\n",
    "    if [ -d \"$working_directory\" ] ; then\n",
    "        rm -rf \"$working_directory\"\n",
    "    fi\n",
    "}\n",
    "# Clean up when the script exits normally or with an \"INT\" signal\n",
    "trap cleanup EXIT INT"
   ]
  },
  {
   "cell_type": "code",
   "execution_count": null,
   "metadata": {},
   "outputs": [],
   "source": [
    "echo $(pwd)"
   ]
  },
  {
   "cell_type": "markdown",
   "metadata": {},
   "source": [
    "We'll also be using the common owmeta database"
   ]
  },
  {
   "cell_type": "code",
   "execution_count": null,
   "metadata": {},
   "outputs": [],
   "source": [
    "rm -rf .owm\n",
    "owm clone https://github.com/openworm/OpenWormData.git --branch=461-pow-om-rename"
   ]
  },
  {
   "cell_type": "markdown",
   "metadata": {},
   "source": [
    "## BASICS"
   ]
  },
  {
   "cell_type": "markdown",
   "metadata": {},
   "source": [
    "To create a bundle, you have to register a bundle descriptor. This is a file which describes what's in a bundle.\n",
    "\n",
    "You can make a bundle descriptor file with any editor you like. It's a YAML serialization."
   ]
  },
  {
   "cell_type": "code",
   "execution_count": null,
   "metadata": {},
   "outputs": [],
   "source": [
    "cat > bundle.yml << HERE\n",
    "---\n",
    "id: example/abundle\n",
    "description: |-\n",
    "    This is a bundle used for demonstration purposes\n",
    "version: 1\n",
    "includes:\n",
    "    - http://openworm.org/schema/sci\n",
    "patterns:\n",
    "    - rgx:.*data_sources.*#Neurons/context_for.*\n",
    "    - '*/translators/*'\n",
    "files:\n",
    "    includes:\n",
    "        - src/readme.txt\n",
    "    patterns:\n",
    "        - 'src/data_set_0[0-9][0-9]/**'\n",
    "HERE"
   ]
  },
  {
   "cell_type": "markdown",
   "metadata": {},
   "source": [
    "The `owm bundle register` command actually registers the bundle. This puts a reference to the descriptor file in the .owm directory\n"
   ]
  },
  {
   "cell_type": "code",
   "execution_count": null,
   "metadata": {},
   "outputs": [],
   "source": [
    "owm bundle register bundle.yml"
   ]
  },
  {
   "cell_type": "markdown",
   "metadata": {},
   "source": [
    "`owm bundle list` lists the bundles registered in this owmeta project"
   ]
  },
  {
   "cell_type": "code",
   "execution_count": null,
   "metadata": {},
   "outputs": [],
   "source": [
    "owm bundle list"
   ]
  },
  {
   "cell_type": "markdown",
   "metadata": {},
   "source": [
    "If you move or rename a bundle file owmeta will not know about it: it does not track file moves. It will, however, tell you if a bundle descriptor cannot be found when you list registered bundles."
   ]
  },
  {
   "cell_type": "code",
   "execution_count": null,
   "metadata": {},
   "outputs": [],
   "source": [
    "mv bundle.yml aBundle.yml\n",
    "owm bundle list"
   ]
  },
  {
   "cell_type": "markdown",
   "metadata": {},
   "source": [
    "To correct this, you must re-register the bundle at the new location"
   ]
  },
  {
   "cell_type": "code",
   "execution_count": null,
   "metadata": {},
   "outputs": [],
   "source": [
    "owm bundle register aBundle.yml\n",
    "owm bundle list"
   ]
  },
  {
   "cell_type": "markdown",
   "metadata": {},
   "source": [
    "If you're done with a bundle, you deregister it. You can provide either the descriptor file name or the bundle ID"
   ]
  },
  {
   "cell_type": "code",
   "execution_count": null,
   "metadata": {},
   "outputs": [],
   "source": [
    "owm bundle deregister 'example/abundle'\n",
    "owm bundle list"
   ]
  },
  {
   "cell_type": "markdown",
   "metadata": {},
   "source": [
    "## FETCH"
   ]
  },
  {
   "cell_type": "markdown",
   "metadata": {},
   "source": [
    "[BASIC](#BASIC) showed us how to create and list bundles, but what about when you want someone else's bundles? To fetch a bundle, you need the bundle name. That name is queried for in your local repository (see below in [LOCAL](#LOCAL)), then in any remotes configured in your \".owm\" directory or user settings, and finally the default remote (see [REMOTE](#REMOTE)). `owm bundle fetch` does this for you.\n",
    "\n",
    "For the purposes of this example, let's start up a local bundle server and add a remote for it:"
   ]
  },
  {
   "cell_type": "code",
   "execution_count": null,
   "metadata": {},
   "outputs": [],
   "source": [
    "if [ \"$SERVER_PID\" ] ; then pkill -P $SERVER_PID python ; fi\n",
    "if [ -f server_address ] ; then rm server_address ; fi\n",
    "python scripts/fake_bundle_server.py server_address > fake_bundle_server.stdout.log 2> fake_bundle_server.stderr.log &\n",
    "SERVER_PID=$!"
   ]
  },
  {
   "cell_type": "code",
   "execution_count": null,
   "metadata": {},
   "outputs": [],
   "source": [
    "server_url=$(cat server_address)\n",
    "while [ ! \"$server_url\" ] ; do\n",
    "    server_url=$(cat server_address)\n",
    "    echo \"Waiting...\"\n",
    "    sleep 1\n",
    "done\n",
    "echo $server_url"
   ]
  },
  {
   "cell_type": "code",
   "execution_count": null,
   "metadata": {},
   "outputs": [],
   "source": [
    "cat fake_bundle_server.stderr.log"
   ]
  },
  {
   "cell_type": "code",
   "execution_count": null,
   "metadata": {},
   "outputs": [],
   "source": [
    "owm bundle remote add example $server_url/bundles.idx\n",
    "owm bundle remote list"
   ]
  },
  {
   "cell_type": "code",
   "execution_count": null,
   "metadata": {},
   "outputs": [],
   "source": [
    "owm bundle fetch example/aBundle"
   ]
  },
  {
   "cell_type": "markdown",
   "metadata": {},
   "source": [
    "Fetching a bundle puts it in your local repository so you can use it in any projects on the local machine. You use a bundle in Python with the Bundle object. You can access contexts within a bundle by passing the context to the bundle as shown below."
   ]
  },
  {
   "cell_type": "code",
   "execution_count": null,
   "metadata": {},
   "outputs": [],
   "source": [
    "use_a_bundle() {\n",
    "    BUNDLE=\"$1\"\n",
    "    CONTEXT=\"$2\"\n",
    "    cat > scripts/use_a_bundle.py << HERE\n",
    "'''\n",
    "List DataObject sub-classes in the bundle\n",
    "\n",
    "This is a way to learn a little about the classes in a bundle\n",
    "'''\n",
    "from owmeta.bundle import Bundle\n",
    "from owmeta.context import Context\n",
    "from owmeta.dataObject import (TypeDataObject,\n",
    "                               DataObject,\n",
    "                               RDFSSubClassOfProperty,\n",
    "                               BaseDataObject)\n",
    "\n",
    "# Use the bundle\n",
    "with Bundle('${BUNDLE}') as bnd:\n",
    "    # \"contextualize\" the Context with the bundle to access contexts within the bundle\n",
    "    ctx = bnd(Context)('${CONTEXT}')\n",
    "    for x in ctx.stored.rdf_graph():\n",
    "        print(x)\n",
    "    # Make a query for subclasses of BaseDataObject -- the owmeta type which represents\n",
    "    # RDF resources\n",
    "    tdo = ctx.stored(TypeDataObject).query()\n",
    "    tdo.attach_property(RDFSSubClassOfProperty)\n",
    "    tdo.rdfs_subclassof_property(BaseDataObject.rdf_type_object)\n",
    "    # Execute the query\n",
    "    for sc in tdo.load():\n",
    "        print(sc)\n",
    "HERE\n",
    "\n",
    "    python scripts/use_a_bundle.py\n",
    "}\n"
   ]
  },
  {
   "cell_type": "code",
   "execution_count": null,
   "metadata": {},
   "outputs": [],
   "source": [
    "use_a_bundle 'example/bundle.01' 'https://example.org/bundles#example'"
   ]
  },
  {
   "cell_type": "markdown",
   "metadata": {},
   "source": [
    "Note that the bundle does not need to have been already fetched. In use_a_bundle.py, we use a bundle `example/bundle.01` which we had not previously fetched. When you make the Bundle object, owmeta will retrieve the bundle from remotes if necessary."
   ]
  }
 ],
 "metadata": {
  "kernelspec": {
   "display_name": "Bash",
   "language": "bash",
   "name": "bash"
  },
  "language_info": {
   "codemirror_mode": "shell",
   "file_extension": ".sh",
   "mimetype": "text/x-sh",
   "name": "bash"
  }
 },
 "nbformat": 4,
 "nbformat_minor": 2
}
